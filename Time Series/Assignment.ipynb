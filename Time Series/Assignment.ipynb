{
 "cells": [
  {
   "cell_type": "raw",
   "id": "8254f2ec",
   "metadata": {},
   "source": [
    "Assignment\n",
    "\n",
    "1. Read the Microsoft Data using Pandas Data reader\n",
    "2. Get the maximum price of the share from 2017 to 2022\n",
    "3. Which is the date of the highest price of the stock?\n",
    "4. Which is the date of the lowest price of the stock?"
   ]
  },
  {
   "cell_type": "code",
   "execution_count": 2,
   "id": "eda2b141",
   "metadata": {},
   "outputs": [
    {
     "name": "stdout",
     "output_type": "stream",
     "text": [
      "[*********************100%***********************]  1 of 1 completed\n",
      "Wall time: 5.26 s\n"
     ]
    },
    {
     "data": {
      "text/html": [
       "<div>\n",
       "<style scoped>\n",
       "    .dataframe tbody tr th:only-of-type {\n",
       "        vertical-align: middle;\n",
       "    }\n",
       "\n",
       "    .dataframe tbody tr th {\n",
       "        vertical-align: top;\n",
       "    }\n",
       "\n",
       "    .dataframe thead th {\n",
       "        text-align: right;\n",
       "    }\n",
       "</style>\n",
       "<table border=\"1\" class=\"dataframe\">\n",
       "  <thead>\n",
       "    <tr style=\"text-align: right;\">\n",
       "      <th></th>\n",
       "      <th>Open</th>\n",
       "      <th>High</th>\n",
       "      <th>Low</th>\n",
       "      <th>Close</th>\n",
       "      <th>Adj Close</th>\n",
       "      <th>Volume</th>\n",
       "    </tr>\n",
       "    <tr>\n",
       "      <th>Date</th>\n",
       "      <th></th>\n",
       "      <th></th>\n",
       "      <th></th>\n",
       "      <th></th>\n",
       "      <th></th>\n",
       "      <th></th>\n",
       "    </tr>\n",
       "  </thead>\n",
       "  <tbody>\n",
       "    <tr>\n",
       "      <th>1986-03-13</th>\n",
       "      <td>0.088542</td>\n",
       "      <td>0.101563</td>\n",
       "      <td>0.088542</td>\n",
       "      <td>0.097222</td>\n",
       "      <td>0.060657</td>\n",
       "      <td>1031788800</td>\n",
       "    </tr>\n",
       "    <tr>\n",
       "      <th>1986-03-14</th>\n",
       "      <td>0.097222</td>\n",
       "      <td>0.102431</td>\n",
       "      <td>0.097222</td>\n",
       "      <td>0.100694</td>\n",
       "      <td>0.062823</td>\n",
       "      <td>308160000</td>\n",
       "    </tr>\n",
       "    <tr>\n",
       "      <th>1986-03-17</th>\n",
       "      <td>0.100694</td>\n",
       "      <td>0.103299</td>\n",
       "      <td>0.100694</td>\n",
       "      <td>0.102431</td>\n",
       "      <td>0.063907</td>\n",
       "      <td>133171200</td>\n",
       "    </tr>\n",
       "    <tr>\n",
       "      <th>1986-03-18</th>\n",
       "      <td>0.102431</td>\n",
       "      <td>0.103299</td>\n",
       "      <td>0.098958</td>\n",
       "      <td>0.099826</td>\n",
       "      <td>0.062281</td>\n",
       "      <td>67766400</td>\n",
       "    </tr>\n",
       "    <tr>\n",
       "      <th>1986-03-19</th>\n",
       "      <td>0.099826</td>\n",
       "      <td>0.100694</td>\n",
       "      <td>0.097222</td>\n",
       "      <td>0.098090</td>\n",
       "      <td>0.061198</td>\n",
       "      <td>47894400</td>\n",
       "    </tr>\n",
       "    <tr>\n",
       "      <th>...</th>\n",
       "      <td>...</td>\n",
       "      <td>...</td>\n",
       "      <td>...</td>\n",
       "      <td>...</td>\n",
       "      <td>...</td>\n",
       "      <td>...</td>\n",
       "    </tr>\n",
       "    <tr>\n",
       "      <th>2023-04-24</th>\n",
       "      <td>282.089996</td>\n",
       "      <td>284.950012</td>\n",
       "      <td>278.720001</td>\n",
       "      <td>281.769989</td>\n",
       "      <td>281.769989</td>\n",
       "      <td>26611000</td>\n",
       "    </tr>\n",
       "    <tr>\n",
       "      <th>2023-04-25</th>\n",
       "      <td>279.510010</td>\n",
       "      <td>281.600006</td>\n",
       "      <td>275.369995</td>\n",
       "      <td>275.420013</td>\n",
       "      <td>275.420013</td>\n",
       "      <td>45772200</td>\n",
       "    </tr>\n",
       "    <tr>\n",
       "      <th>2023-04-26</th>\n",
       "      <td>296.700012</td>\n",
       "      <td>299.570007</td>\n",
       "      <td>292.730011</td>\n",
       "      <td>295.369995</td>\n",
       "      <td>295.369995</td>\n",
       "      <td>64599200</td>\n",
       "    </tr>\n",
       "    <tr>\n",
       "      <th>2023-04-27</th>\n",
       "      <td>295.970001</td>\n",
       "      <td>305.200012</td>\n",
       "      <td>295.250000</td>\n",
       "      <td>304.829987</td>\n",
       "      <td>304.829987</td>\n",
       "      <td>46462600</td>\n",
       "    </tr>\n",
       "    <tr>\n",
       "      <th>2023-04-28</th>\n",
       "      <td>304.010010</td>\n",
       "      <td>308.929993</td>\n",
       "      <td>303.309998</td>\n",
       "      <td>307.260010</td>\n",
       "      <td>307.260010</td>\n",
       "      <td>36446700</td>\n",
       "    </tr>\n",
       "  </tbody>\n",
       "</table>\n",
       "<p>9358 rows × 6 columns</p>\n",
       "</div>"
      ],
      "text/plain": [
       "                  Open        High         Low       Close   Adj Close  \\\n",
       "Date                                                                     \n",
       "1986-03-13    0.088542    0.101563    0.088542    0.097222    0.060657   \n",
       "1986-03-14    0.097222    0.102431    0.097222    0.100694    0.062823   \n",
       "1986-03-17    0.100694    0.103299    0.100694    0.102431    0.063907   \n",
       "1986-03-18    0.102431    0.103299    0.098958    0.099826    0.062281   \n",
       "1986-03-19    0.099826    0.100694    0.097222    0.098090    0.061198   \n",
       "...                ...         ...         ...         ...         ...   \n",
       "2023-04-24  282.089996  284.950012  278.720001  281.769989  281.769989   \n",
       "2023-04-25  279.510010  281.600006  275.369995  275.420013  275.420013   \n",
       "2023-04-26  296.700012  299.570007  292.730011  295.369995  295.369995   \n",
       "2023-04-27  295.970001  305.200012  295.250000  304.829987  304.829987   \n",
       "2023-04-28  304.010010  308.929993  303.309998  307.260010  307.260010   \n",
       "\n",
       "                Volume  \n",
       "Date                    \n",
       "1986-03-13  1031788800  \n",
       "1986-03-14   308160000  \n",
       "1986-03-17   133171200  \n",
       "1986-03-18    67766400  \n",
       "1986-03-19    47894400  \n",
       "...                ...  \n",
       "2023-04-24    26611000  \n",
       "2023-04-25    45772200  \n",
       "2023-04-26    64599200  \n",
       "2023-04-27    46462600  \n",
       "2023-04-28    36446700  \n",
       "\n",
       "[9358 rows x 6 columns]"
      ]
     },
     "execution_count": 2,
     "metadata": {},
     "output_type": "execute_result"
    }
   ],
   "source": [
    "%%time\n",
    "#Q1:\n",
    "import pandas_datareader as pdr\n",
    "import yfinance as yf\n",
    "import pandas as pd\n",
    "df_microsoft = yf.download('MSFT')\n",
    "df_microsoft"
   ]
  },
  {
   "cell_type": "code",
   "execution_count": 5,
   "id": "0e172c35",
   "metadata": {},
   "outputs": [
    {
     "data": {
      "text/plain": [
       "349.6700134277344"
      ]
     },
     "execution_count": 5,
     "metadata": {},
     "output_type": "execute_result"
    }
   ],
   "source": [
    "#Q2:\n",
    "df_microsoft['2017-01-01':'2022-12-31']['High'].max()"
   ]
  },
  {
   "cell_type": "code",
   "execution_count": 18,
   "id": "b3ebf0fa",
   "metadata": {},
   "outputs": [
    {
     "data": {
      "text/plain": [
       "Timestamp('2021-11-22 00:00:00')"
      ]
     },
     "execution_count": 18,
     "metadata": {},
     "output_type": "execute_result"
    }
   ],
   "source": [
    "#Q3:\n",
    "df_microsoft['2017-01-01':'2022-12-31']['High'].idxmax()"
   ]
  },
  {
   "cell_type": "code",
   "execution_count": 19,
   "id": "4ced4166",
   "metadata": {},
   "outputs": [
    {
     "data": {
      "text/plain": [
       "Timestamp('2017-01-05 00:00:00')"
      ]
     },
     "execution_count": 19,
     "metadata": {},
     "output_type": "execute_result"
    }
   ],
   "source": [
    "#Q4:\n",
    "df_microsoft['2017-01-01':'2022-12-31']['High'].idxmin()"
   ]
  },
  {
   "cell_type": "code",
   "execution_count": 20,
   "id": "2ee8d998",
   "metadata": {},
   "outputs": [
    {
     "data": {
      "text/plain": [
       "pandas.core.frame.DataFrame"
      ]
     },
     "execution_count": 20,
     "metadata": {},
     "output_type": "execute_result"
    }
   ],
   "source": [
    "type(df_microsoft)"
   ]
  },
  {
   "cell_type": "code",
   "execution_count": null,
   "id": "2ee59ab9",
   "metadata": {},
   "outputs": [],
   "source": []
  }
 ],
 "metadata": {
  "kernelspec": {
   "display_name": "Python 3 (ipykernel)",
   "language": "python",
   "name": "python3"
  },
  "language_info": {
   "codemirror_mode": {
    "name": "ipython",
    "version": 3
   },
   "file_extension": ".py",
   "mimetype": "text/x-python",
   "name": "python",
   "nbconvert_exporter": "python",
   "pygments_lexer": "ipython3",
   "version": "3.9.13"
  }
 },
 "nbformat": 4,
 "nbformat_minor": 5
}
